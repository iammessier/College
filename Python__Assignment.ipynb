{
  "nbformat": 4,
  "nbformat_minor": 0,
  "metadata": {
    "colab": {
      "provenance": []
    },
    "kernelspec": {
      "name": "python3",
      "display_name": "Python 3"
    },
    "language_info": {
      "name": "python"
    }
  },
  "cells": [
    {
      "cell_type": "markdown",
      "source": [
        "Q1) Using Pandas read any CSV file and display first five rows of that file."
      ],
      "metadata": {
        "id": "d1lhR26uuFd9"
      }
    },
    {
      "cell_type": "code",
      "source": [
        "import pandas as pd\n",
        "frame = pd.read_csv(\"//content/sample_data/california_housing_test.csv\")\n",
        "print(frame.head())"
      ],
      "metadata": {
        "colab": {
          "base_uri": "https://localhost:8080/"
        },
        "id": "bXifJ8JwuNOh",
        "outputId": "9e648931-dbdd-410e-a140-fd2050ef5ad9"
      },
      "execution_count": null,
      "outputs": [
        {
          "output_type": "stream",
          "name": "stdout",
          "text": [
            "   longitude  latitude  housing_median_age  total_rooms  total_bedrooms  \\\n",
            "0    -122.05     37.37                27.0       3885.0           661.0   \n",
            "1    -118.30     34.26                43.0       1510.0           310.0   \n",
            "2    -117.81     33.78                27.0       3589.0           507.0   \n",
            "3    -118.36     33.82                28.0         67.0            15.0   \n",
            "4    -119.67     36.33                19.0       1241.0           244.0   \n",
            "\n",
            "   population  households  median_income  median_house_value  \n",
            "0      1537.0       606.0         6.6085            344700.0  \n",
            "1       809.0       277.0         3.5990            176500.0  \n",
            "2      1484.0       495.0         5.7934            270500.0  \n",
            "3        49.0        11.0         6.1359            330000.0  \n",
            "4       850.0       237.0         2.9375             81700.0  \n"
          ]
        }
      ]
    },
    {
      "cell_type": "markdown",
      "source": [
        "Q2) Write a python program to print the contents of a directory using OS module. Search online for the function which does that."
      ],
      "metadata": {
        "id": "PLs7ByKtvPf0"
      }
    },
    {
      "cell_type": "code",
      "source": [
        "import os\n",
        "folders = os.listdir(\"/lib\")\n",
        "for s in folders:\n",
        "  print(s)"
      ],
      "metadata": {
        "colab": {
          "base_uri": "https://localhost:8080/"
        },
        "id": "mIjnKgwhvV8E",
        "outputId": "1ea7084d-cf5c-42fb-88b9-664ff4a73b3c"
      },
      "execution_count": null,
      "outputs": [
        {
          "output_type": "stream",
          "name": "stdout",
          "text": [
            "mime\n",
            "apt\n",
            "sysctl.d\n",
            "x86_64-linux-gnu\n",
            "systemd\n",
            "locale\n",
            "lsb\n",
            "os-release\n",
            "udev\n",
            "usrmerge\n",
            "tmpfiles.d\n",
            "dpkg\n",
            "init\n",
            "terminfo\n",
            "python3\n",
            "R\n",
            "cmake\n",
            "man-db\n",
            "gcc\n",
            "policykit-1\n",
            "X11\n",
            "groff\n",
            "bfd-plugins\n",
            "tk8.6\n",
            "binfmt.d\n",
            "libmfhdfalt.so.0\n",
            "clang\n",
            "libhdf4.settings\n",
            "modules-load.d\n",
            "tc\n",
            "modules\n",
            "software-properties\n",
            "environment.d\n",
            "python3.10\n",
            "libdfalt.la\n",
            "tclConfig.sh\n",
            "emacsen-common\n",
            "tcl8.6\n",
            "libBLT.2.5.so.8.6\n",
            "libmfhdfalt.a\n",
            "pkgconfig\n",
            "libvpf.so\n",
            "debug\n",
            "jvm\n",
            "libdfalt.a\n",
            "p7zip\n",
            "libogdi.so\n",
            "tcltk\n",
            "libvpf.so.4.1\n",
            "ogdi\n",
            "libogdi.so.4.1\n",
            "libdfalt.so.0.0.0\n",
            "libvpf.so.4\n",
            "libarmadillo.so\n",
            "libogdi.so.4\n",
            "pam.d\n",
            "llvm-14\n",
            "git-core\n",
            "libgdal.so\n",
            "libpsm1\n",
            "libBLTlite.2.5.so.8.6\n",
            "polkit-1\n",
            "libgdal.so.30\n",
            "libR.so\n",
            "libdfalt.so.0\n",
            "tkConfig.sh\n",
            "libgdal.so.30.0.3\n",
            "libdfalt.so\n",
            "libmfhdfalt.so\n",
            "sysusers.d\n",
            "valgrind\n",
            "python3.11\n",
            "tclooConfig.sh\n",
            "libarmadillo.so.10\n",
            "dbus-1.0\n",
            "python2.7\n",
            "openssh\n",
            "modprobe.d\n",
            "libarmadillo.so.10.8.2\n",
            "libmfhdfalt.so.0.0.0\n",
            "libgdal.a\n",
            "pkg-config.multiarch\n",
            "girepository-1.0\n",
            "kernel\n",
            "libmfhdfalt.la\n",
            "dh-elpa\n",
            "file\n",
            "ld-linux.so.2\n",
            "blt2.5\n",
            "gold-ld\n",
            "cpp\n",
            "compat-ld\n",
            "gnupg2\n",
            "gnupg\n",
            "sasl2\n",
            "ssl\n"
          ]
        }
      ]
    },
    {
      "cell_type": "markdown",
      "source": [
        "Q3) Write a program to read image and find size and shape of image using external module."
      ],
      "metadata": {
        "id": "cubtnC30w-n4"
      }
    },
    {
      "cell_type": "code",
      "source": [
        "from PIL import Image\n",
        "\n",
        "image_path = \"\\C:\\Users\\asus\\Desktop\\IMP Docs\\WhatsApp Image 2023-05-14 at 21.41.37.jpg\"\n",
        "try:\n",
        "    img = Image.open(image_path)\n",
        "    width, height = img.size\n",
        "\n",
        "    shape = img.mode\n",
        "\n",
        "    print(f\"Image Size (Width x Height): {width} x {height}\")\n",
        "    print(f\"Image Shape (Mode): {shape}\")\n",
        "\n",
        "\n"
      ],
      "metadata": {
        "id": "tmpCkIotxWP6",
        "colab": {
          "base_uri": "https://localhost:8080/",
          "height": 141
        },
        "outputId": "0a5a7b9a-6937-4b5e-c9ad-e0b57230583f"
      },
      "execution_count": null,
      "outputs": [
        {
          "output_type": "error",
          "ename": "SyntaxError",
          "evalue": "ignored",
          "traceback": [
            "\u001b[0;36m  File \u001b[0;32m\"<ipython-input-7-971b3fc837f3>\"\u001b[0;36m, line \u001b[0;32m3\u001b[0m\n\u001b[0;31m    image_path = \"\\C:\\Users\\asus\\Desktop\\IMP Docs\\WhatsApp Image 2023-05-14 at 21.41.37.jpg\"\u001b[0m\n\u001b[0m                                                                                            ^\u001b[0m\n\u001b[0;31mSyntaxError\u001b[0m\u001b[0;31m:\u001b[0m (unicode error) 'unicodeescape' codec can't decode bytes in position 3-4: truncated \\UXXXXXXXX escape\n"
          ]
        }
      ]
    },
    {
      "cell_type": "markdown",
      "source": [
        "Q4) Please write a program to make a list of random numbers between 0 to 10  and  output numbers from that list  which is divisible by 5 or 7, using random module."
      ],
      "metadata": {
        "id": "uB73zhtaxrqI"
      }
    },
    {
      "cell_type": "code",
      "source": [
        "import random\n",
        "\n",
        "for i in range(5):\n",
        "  n = random.randint(0,11)\n",
        "  if n%5 == 0 or n%7 == 0:\n",
        "    print(n, end = \" \")\n"
      ],
      "metadata": {
        "colab": {
          "base_uri": "https://localhost:8080/"
        },
        "id": "J8F7YoEy91a9",
        "outputId": "80c7c232-e4ae-4618-da18-abfedeb2b713"
      },
      "execution_count": null,
      "outputs": [
        {
          "output_type": "stream",
          "name": "stdout",
          "text": [
            "10 7 "
          ]
        }
      ]
    },
    {
      "cell_type": "markdown",
      "source": [
        "Q5) Write a python program to convert dictionary to xml."
      ],
      "metadata": {
        "id": "6BdaKooKxuUm"
      }
    },
    {
      "cell_type": "code",
      "source": [
        "!pip install dict2xml"
      ],
      "metadata": {
        "colab": {
          "base_uri": "https://localhost:8080/"
        },
        "id": "rSvx25RbJTJ8",
        "outputId": "cc592337-3ebf-4810-f75d-d4e350641ede"
      },
      "execution_count": null,
      "outputs": [
        {
          "output_type": "stream",
          "name": "stdout",
          "text": [
            "Collecting dict2xml\n",
            "  Using cached dict2xml-1.7.3-py3-none-any.whl (7.3 kB)\n",
            "Installing collected packages: dict2xml\n",
            "Successfully installed dict2xml-1.7.3\n"
          ]
        }
      ]
    },
    {
      "cell_type": "code",
      "source": [
        "from dict2xml import dict2xml\n",
        "\n",
        "print(\"My dictionary: \")\n",
        "python_dict={\"Name\":\"Akanksha\",\"Class\":\"2nd year btech CSE\",\"Batch of\":\"2026\"}\n",
        "print(python_dict)\n",
        "print(\"\\n output:\")\n",
        "xml_output = dict2xml(python_dict)\n",
        "print(xml_output)"
      ],
      "metadata": {
        "id": "hzIxnXRv_XVV",
        "colab": {
          "base_uri": "https://localhost:8080/"
        },
        "outputId": "e22947ae-d9f9-4eb7-a78f-8c82d32382f2"
      },
      "execution_count": null,
      "outputs": [
        {
          "output_type": "stream",
          "name": "stdout",
          "text": [
            "My dictionary: \n",
            "{'Name': 'Akanksha', 'Class': '2nd year btech CSE', 'Batch of': '2026'}\n",
            "\n",
            " output:\n",
            "<Batch_of>2026</Batch_of>\n",
            "<Class>2nd year btech CSE</Class>\n",
            "<Name>Akanksha</Name>\n"
          ]
        }
      ]
    },
    {
      "cell_type": "markdown",
      "source": [
        "6) Write a program to validate phone number."
      ],
      "metadata": {
        "id": "ShpPQqS2xxgY"
      }
    },
    {
      "cell_type": "code",
      "source": [
        "phoneno = input(\"Enter the phone number: \")\n",
        "flag = True\n",
        "if(len(phoneno)!=10):\n",
        "  flag = False\n",
        "else:\n",
        "  if(len(phoneno) == 10):\n",
        "    for i in phoneno:\n",
        "      if ord(i)<48 and ord(i)>7:\n",
        "        flag = False\n",
        "        break\n",
        "\n",
        "if flag:\n",
        "  print(\"Valid\")\n",
        "else:\n",
        "  print(\"Invalid\")"
      ],
      "metadata": {
        "colab": {
          "base_uri": "https://localhost:8080/"
        },
        "id": "z6ziWTOPJi6v",
        "outputId": "4edbb216-6adc-4863-fc5a-2a2c3c1cb0db"
      },
      "execution_count": null,
      "outputs": [
        {
          "output_type": "stream",
          "name": "stdout",
          "text": [
            "Enter the phone number: 9109352316\n",
            "Valid\n"
          ]
        }
      ]
    },
    {
      "cell_type": "markdown",
      "source": [],
      "metadata": {
        "id": "SpBXfzCyKhYn"
      }
    },
    {
      "cell_type": "markdown",
      "source": [
        "7) Given 2 sets of integers, M and N, print their symmetric difference in ascending order. The term symmetric difference indicates those values that exist in either M or N but do not exist in both.\n",
        "Input Format :\n",
        "\n",
        "The first line of input contains an integer, M.\n",
        "The second line contains M space-separated integers.\n",
        "The third line contains an integer, N.\n",
        "\n",
        "The fourth line contains N space-separated integers.\n",
        "\n",
        " Output Format :\n",
        "\n",
        "Output the symmetric difference integers in ascending order, one per line.\n",
        "\n",
        "Sample Input :\n",
        "\n",
        "4\n",
        "\n",
        "2 4 5 9\n",
        "\n",
        "4\n",
        "\n",
        "2 4 11 12\n",
        "\n",
        "\n",
        "\n",
        "Sample Output:\n",
        "\n",
        "5\n",
        "\n",
        "9\n",
        "\n",
        "11\n",
        "\n",
        "12"
      ],
      "metadata": {
        "id": "E_YB8RXKxzwG"
      }
    },
    {
      "cell_type": "code",
      "source": [
        "M = int(input())\n",
        "str1 = input()\n",
        "N = int(input())\n",
        "str2 = input()\n",
        "auxlist1 = str1.split()\n",
        "auxlist2 = str2.split()\n",
        "\n",
        "list1 = []\n",
        "list2 = []\n",
        "final = []\n",
        "for i in auxlist1:\n",
        "    list1.append(int(i))\n",
        "for i in auxlist2:\n",
        "    list2.append(int(i))\n",
        "\n",
        "for i in list1:\n",
        "    if i not in list2:\n",
        "        final.append(i)\n",
        "for i in list2:\n",
        "    if i not in list1:\n",
        "        final.append(i)\n",
        "final.sort()\n",
        "print(\"output list: \", final)\n",
        "\n"
      ],
      "metadata": {
        "colab": {
          "base_uri": "https://localhost:8080/"
        },
        "id": "fVXbjk_qKwgE",
        "outputId": "2e018ec9-0103-4c72-9984-49c388f6077c"
      },
      "execution_count": null,
      "outputs": [
        {
          "output_type": "stream",
          "name": "stdout",
          "text": [
            "5\n",
            "6789\n",
            "6\n",
            "6789\n",
            "output list:  []\n"
          ]
        }
      ]
    },
    {
      "cell_type": "markdown",
      "source": [
        "8) Consider a list (list = []). You can perform the following commands:\n",
        "\n",
        "1.      insert i e: Insert integer e at position i.\n",
        "\n",
        "2.      print: Print the list.\n",
        "\n",
        "3.      remove e: Delete the first occurrence of integer e.\n",
        "\n",
        "4.      append e: Insert integer  e at the end of the list.\n",
        "\n",
        "5.      sort: Sort the list.\n",
        "\n",
        "6.      pop: Pop the last element from the list.\n",
        "\n",
        "7.      reverse: Reverse the list.\n",
        "\n",
        "Initialize your list and read in the value of n followed by  n lines of commands where each command will be of the  7 types listed above. Iterate through each command in order and perform the corresponding operation on your list.\n",
        "\n",
        "Sample Input 0\n",
        "\n",
        "12\n",
        "\n",
        "insert 0 5\n",
        "\n",
        "insert 1 10\n",
        "\n",
        "insert 0 6\n",
        "\n",
        "print\n",
        "\n",
        "remove 6\n",
        "\n",
        "append 9\n",
        "\n",
        "append 1\n",
        "\n",
        "sort\n",
        "\n",
        "print\n",
        "\n",
        "pop\n",
        "\n",
        "reverse\n",
        "\n",
        "print\n",
        "\n",
        "Sample Output 0\n",
        "\n",
        "[6, 5, 10]\n",
        "\n",
        "[1, 5, 9, 10]\n",
        "\n",
        "[9, 5, 1]\n",
        "\n",
        "\n"
      ],
      "metadata": {
        "id": "VoVAL5iLyC53"
      }
    },
    {
      "cell_type": "code",
      "source": [
        "list1 = []\n",
        "n = int(input())\n",
        "\n",
        "for i in range(n):\n",
        "    command = input()\n",
        "    pointer = 0\n",
        "\n",
        "    while(pointer<len(command) and command[pointer].isspace() is False):\n",
        "        pointer+=1\n",
        "    opcode = command[0:pointer]\n",
        "\n",
        "    if opcode == \"insert\":\n",
        "        pointer+=1\n",
        "        flag = pointer\n",
        "        while command[pointer].isspace() is False:\n",
        "            pointer+=1\n",
        "        operand1 = int(command[flag:pointer])\n",
        "        operand2 = int(command[pointer+1::])\n",
        "        list1.insert(operand1, operand2)\n",
        "\n",
        "    elif opcode == \"print\":\n",
        "        print(list1)\n",
        "\n",
        "    elif opcode == \"remove\":\n",
        "        operand = int(command[flag::])\n",
        "        list1.remove(operand)\n",
        "\n",
        "    elif opcode == \"append\":\n",
        "        operand = int(command[flag::])\n",
        "        list1.append(operand)\n",
        "\n",
        "    elif opcode == \"pop\":\n",
        "        list1.pop();\n",
        "\n",
        "    elif opcode == \"sort\":\n",
        "        list1.sort()\n",
        "\n",
        "    elif opcode == \"reverse\":\n",
        "        list1.reverse()\n",
        "\n",
        "\n",
        "\n"
      ],
      "metadata": {
        "id": "lD-QscvuM65q",
        "colab": {
          "base_uri": "https://localhost:8080/"
        },
        "outputId": "1ee47a86-cc6a-4320-a490-d9257a6155a6"
      },
      "execution_count": null,
      "outputs": [
        {
          "name": "stdout",
          "output_type": "stream",
          "text": [
            "3333\n",
            "4\n",
            "5\n",
            "6\n",
            "7\n",
            "8\n",
            "9\n",
            "10\n",
            "3\n",
            "2\n",
            "1\n"
          ]
        }
      ]
    },
    {
      "cell_type": "markdown",
      "source": [
        "9)You are given a date. Your task is to find what the day is on that date.\n",
        "\n",
        "Input Format\n",
        "\n",
        "A single line of input containing the space separated month, day and year, respectively, in  MM DD YYYY   format.\n",
        "\n",
        "Constraints\n",
        "\n",
        "2000<year<3000\n",
        "\n",
        "Output Format\n",
        "\n",
        "Output the correct day in capital letters.\n",
        "\n",
        "Sample Input\n",
        "\n",
        "08 05 2015\n",
        "\n",
        "Sample Output\n",
        "\n",
        "WEDNESDAY"
      ],
      "metadata": {
        "id": "Eufse4VJM4V8"
      }
    },
    {
      "cell_type": "code",
      "source": [
        "import datetime\n",
        "\n",
        "date_input = input(\"Enter the date in MM DD YYYY format: \")\n",
        "month, day, year = map(int, date_input.split())\n",
        "\n",
        "date_obj = datetime.datetime(year, month, day)\n",
        "\n",
        "day_of_week = date_obj.weekday()\n",
        "days = [\"MONDAY\", \"TUESDAY\", \"WEDNESDAY\", \"THURSDAY\", \"FRIDAY\", \"SATURDAY\", \"SUNDAY\"]\n",
        "\n",
        "print(days[day_of_week])\n"
      ],
      "metadata": {
        "id": "gq8VXuvz0tBN",
        "outputId": "75e4651c-53ea-46f4-d35d-ac38c78f5fc6",
        "colab": {
          "base_uri": "https://localhost:8080/"
        }
      },
      "execution_count": null,
      "outputs": [
        {
          "output_type": "stream",
          "name": "stdout",
          "text": [
            "Enter the date in MM DD YYYY format: 09 18 2003\n",
            "THURSDAY\n"
          ]
        }
      ]
    },
    {
      "cell_type": "markdown",
      "source": [
        "10) Write a program which accepts a sequence of words separated by whitespace as input to print the words composed of digits only.\n",
        "\n",
        "Example: If the following words are given as input to the program: 2 cats and 3 dogs.\n",
        "\n",
        " Then, the output of the program should be: ['2', '3']\n",
        "\n",
        " In case of input data being supplied to the question, it should be assumed to be a console input."
      ],
      "metadata": {
        "id": "Rm-pVixQN1_y"
      }
    },
    {
      "cell_type": "code",
      "source": [
        "import re\n",
        "\n",
        "input_string = input(\"Enter a sequence of words: \")\n",
        "\n",
        "digit_words = re.findall(r'\\b\\d+\\b', input_string)\n",
        "\n",
        "print(digit_words)\n"
      ],
      "metadata": {
        "colab": {
          "base_uri": "https://localhost:8080/"
        },
        "id": "_ykRKWAMOwQl",
        "outputId": "c90896bc-0e8d-411f-9b89-07640084c140"
      },
      "execution_count": null,
      "outputs": [
        {
          "output_type": "stream",
          "name": "stdout",
          "text": [
            "Enter a sequence of words: 3 dogs 4 cats\n",
            "['3', '4']\n"
          ]
        }
      ]
    },
    {
      "cell_type": "markdown",
      "source": [],
      "metadata": {
        "id": "_8zsvlqkyFqR"
      }
    }
  ]
}